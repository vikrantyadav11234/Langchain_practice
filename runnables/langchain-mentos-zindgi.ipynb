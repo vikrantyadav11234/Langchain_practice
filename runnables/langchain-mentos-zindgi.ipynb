{
 "cells": [
  {
   "cell_type": "code",
   "execution_count": null,
   "id": "0c6687b2",
   "metadata": {},
   "outputs": [],
   "source": []
  },
  {
   "cell_type": "code",
   "execution_count": null,
   "id": "d46921df",
   "metadata": {},
   "outputs": [],
   "source": []
  },
  {
   "cell_type": "code",
   "execution_count": 1,
   "id": "6cb976e3",
   "metadata": {},
   "outputs": [],
   "source": [
    "from abc import ABC, abstractmethod"
   ]
  },
  {
   "cell_type": "code",
   "execution_count": 2,
   "id": "e23b266f",
   "metadata": {},
   "outputs": [],
   "source": [
    "class Runnable(ABC):\n",
    "    \n",
    "    @abstractmethod\n",
    "    def invoke(input_data):\n",
    "        pass"
   ]
  },
  {
   "cell_type": "code",
   "execution_count": 5,
   "id": "4da8dab3",
   "metadata": {},
   "outputs": [],
   "source": [
    "import random\n",
    "\n",
    "class NakliLLM(Runnable):\n",
    "    \n",
    "    def __init__(self):\n",
    "        print('LLM Created')\n",
    "        \n",
    "    def invoke(self, prompt):\n",
    "        response_list = [\n",
    "            \"Delhi is the capital of India.\",\n",
    "            \"IPL is a cricket legue.\",\n",
    "            \"AI stands for Artificial Intelligence.\"\n",
    "        ]\n",
    "        \n",
    "        return {'response': random.choice(response_list)}\n",
    "        \n",
    "        \n",
    "    def predict(self, prompt):\n",
    "        \n",
    "        response_list = [\n",
    "            \"Delhi is the capital of India.\",\n",
    "            \"IPL is a cricket legue.\",\n",
    "            \"AI stands for Artificial Intelligence.\"\n",
    "        ]\n",
    "        \n",
    "        return {'**Warning: This Method is depriciated, use \"invoke\" instead, \\n response': random.choice(response_list)}"
   ]
  },
  {
   "cell_type": "code",
   "execution_count": 6,
   "id": "22a73791",
   "metadata": {},
   "outputs": [
    {
     "name": "stdout",
     "output_type": "stream",
     "text": [
      "LLM Created\n"
     ]
    }
   ],
   "source": [
    "llm = NakliLLM()"
   ]
  },
  {
   "cell_type": "code",
   "execution_count": 7,
   "id": "d15d4a13",
   "metadata": {},
   "outputs": [],
   "source": [
    "# prompt template\n",
    "class NakliPromptTamplate(Runnable):\n",
    "    \n",
    "    def __init__(self, template, input_variables):\n",
    "        self.template = template\n",
    "        self.input_variables = input_variables\n",
    "        \n",
    "    def invoke(self, input_dict):\n",
    "        return self.template.format(**input_dict)\n",
    "        \n",
    "    def format(self, input_dict):\n",
    "        return self.template.format(**input_dict)\n",
    "    \n",
    "    \n",
    "        "
   ]
  },
  {
   "cell_type": "code",
   "execution_count": 8,
   "id": "a7c739fd",
   "metadata": {},
   "outputs": [],
   "source": [
    "class RunnableConnector(Runnable):\n",
    "    def __init__(self, runnable_list):\n",
    "        self.runnable_list = runnable_list\n",
    "        \n",
    "    def invoke(self, input_data):\n",
    "        for runnable in self.runnable_list:\n",
    "            input_data = runnable.invoke(input_data)\n",
    "            \n",
    "        return input_data"
   ]
  },
  {
   "cell_type": "code",
   "execution_count": 9,
   "id": "fdea3839",
   "metadata": {},
   "outputs": [],
   "source": [
    "template = NakliPromptTamplate(\n",
    "    template=\"Write a {length} poem about {topic}\",\n",
    "    input_variables=[\"length\", \"topic\"]\n",
    ")"
   ]
  },
  {
   "cell_type": "code",
   "execution_count": 10,
   "id": "cfc34ab2",
   "metadata": {},
   "outputs": [
    {
     "name": "stdout",
     "output_type": "stream",
     "text": [
      "LLM Created\n"
     ]
    }
   ],
   "source": [
    "llm = NakliLLM()"
   ]
  },
  {
   "cell_type": "code",
   "execution_count": 14,
   "id": "a2fc924d",
   "metadata": {},
   "outputs": [],
   "source": [
    "#string output parser\n",
    "class NakliStringOutputParser(Runnable):\n",
    "    def __init__(self):\n",
    "        pass\n",
    "    \n",
    "    def invoke(self, input_data):\n",
    "        return input_data['response']\n",
    "    \n",
    "    def parse(self, input_data):\n",
    "        return input_data['response']"
   ]
  },
  {
   "cell_type": "code",
   "execution_count": 15,
   "id": "33a3585d",
   "metadata": {},
   "outputs": [],
   "source": [
    "parser = NakliStringOutputParser()"
   ]
  },
  {
   "cell_type": "code",
   "execution_count": 16,
   "id": "8e7ada8f",
   "metadata": {},
   "outputs": [],
   "source": [
    "chain = RunnableConnector([template, llm, parser ])"
   ]
  },
  {
   "cell_type": "code",
   "execution_count": 17,
   "id": "bcbfb783",
   "metadata": {},
   "outputs": [
    {
     "data": {
      "text/plain": [
       "'AI stands for Artificial Intelligence.'"
      ]
     },
     "execution_count": 17,
     "metadata": {},
     "output_type": "execute_result"
    }
   ],
   "source": [
    "chain.invoke({'length': 'short', 'topic': 'AI'})"
   ]
  },
  {
   "cell_type": "code",
   "execution_count": 18,
   "id": "359d4b4b",
   "metadata": {},
   "outputs": [],
   "source": [
    "template1 = NakliPromptTamplate(\n",
    "    template=\"Write a joke about {topic}\",  \n",
    "    input_variables=[\"topic\"]\n",
    ")"
   ]
  },
  {
   "cell_type": "code",
   "execution_count": 19,
   "id": "c7192462",
   "metadata": {},
   "outputs": [],
   "source": [
    "template2 = NakliPromptTamplate(\n",
    "    template = \"Explain the following joke . \\n {response} \\n in a detailed manner\",\n",
    "    input_variables = [\"response\"]\n",
    ")"
   ]
  },
  {
   "cell_type": "code",
   "execution_count": 20,
   "id": "5d88397f",
   "metadata": {},
   "outputs": [
    {
     "name": "stdout",
     "output_type": "stream",
     "text": [
      "LLM Created\n"
     ]
    }
   ],
   "source": [
    "llm = NakliLLM()"
   ]
  },
  {
   "cell_type": "code",
   "execution_count": 21,
   "id": "83237756",
   "metadata": {},
   "outputs": [],
   "source": [
    "parser = NakliStringOutputParser()"
   ]
  },
  {
   "cell_type": "code",
   "execution_count": 22,
   "id": "fbbfed33",
   "metadata": {},
   "outputs": [],
   "source": [
    "chain1 = RunnableConnector([template1, llm ])"
   ]
  },
  {
   "cell_type": "code",
   "execution_count": 23,
   "id": "58059051",
   "metadata": {},
   "outputs": [
    {
     "data": {
      "text/plain": [
       "{'response': 'AI stands for Artificial Intelligence.'}"
      ]
     },
     "execution_count": 23,
     "metadata": {},
     "output_type": "execute_result"
    }
   ],
   "source": [
    "chain1.invoke({'topic': 'Technology'})"
   ]
  },
  {
   "cell_type": "code",
   "execution_count": 24,
   "id": "43c97beb",
   "metadata": {},
   "outputs": [],
   "source": [
    "chain2 = RunnableConnector([template2, llm, parser])"
   ]
  },
  {
   "cell_type": "code",
   "execution_count": 25,
   "id": "19dcf268",
   "metadata": {},
   "outputs": [
    {
     "data": {
      "text/plain": [
       "'AI stands for Artificial Intelligence.'"
      ]
     },
     "execution_count": 25,
     "metadata": {},
     "output_type": "execute_result"
    }
   ],
   "source": [
    "chain2.invoke(chain1.invoke({'topic': 'Technology'}))"
   ]
  },
  {
   "cell_type": "code",
   "execution_count": 26,
   "id": "95726414",
   "metadata": {},
   "outputs": [],
   "source": [
    "final_chain = RunnableConnector([chain1, chain2])"
   ]
  },
  {
   "cell_type": "code",
   "execution_count": 27,
   "id": "874e005a",
   "metadata": {},
   "outputs": [
    {
     "data": {
      "text/plain": [
       "'AI stands for Artificial Intelligence.'"
      ]
     },
     "execution_count": 27,
     "metadata": {},
     "output_type": "execute_result"
    }
   ],
   "source": [
    "final_chain.invoke({'topic': 'Technology'})"
   ]
  },
  {
   "cell_type": "code",
   "execution_count": null,
   "id": "15512b15",
   "metadata": {},
   "outputs": [],
   "source": []
  }
 ],
 "metadata": {
  "kernelspec": {
   "display_name": "Python 3",
   "language": "python",
   "name": "python3"
  },
  "language_info": {
   "codemirror_mode": {
    "name": "ipython",
    "version": 3
   },
   "file_extension": ".py",
   "mimetype": "text/x-python",
   "name": "python",
   "nbconvert_exporter": "python",
   "pygments_lexer": "ipython3",
   "version": "3.10.18"
  }
 },
 "nbformat": 4,
 "nbformat_minor": 5
}
