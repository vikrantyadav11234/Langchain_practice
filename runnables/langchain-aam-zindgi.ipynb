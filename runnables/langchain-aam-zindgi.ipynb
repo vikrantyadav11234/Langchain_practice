{
 "cells": [
  {
   "cell_type": "code",
   "execution_count": 5,
   "id": "aa73c92a",
   "metadata": {},
   "outputs": [],
   "source": [
    "import random\n",
    "\n",
    "class NakliLLM:\n",
    "    \n",
    "    def __init__(self):\n",
    "        print('LLM Created')\n",
    "        \n",
    "    def predict(self, prompt):\n",
    "        \n",
    "        response_list = [\n",
    "            \"Delhi is the capital of India.\",\n",
    "            \"IPL is a cricket legue.\",\n",
    "            \"AI stands for Artificial Intelligence.\"\n",
    "        ]\n",
    "        \n",
    "        return random.choice(response_list)"
   ]
  },
  {
   "cell_type": "code",
   "execution_count": 8,
   "id": "4a41a330",
   "metadata": {},
   "outputs": [],
   "source": [
    "# prompt template\n",
    "class NakliPromptTamplate:\n",
    "    \n",
    "    def __init__(self, template, input_variables):\n",
    "        self.template = template\n",
    "        self.input_variables = input_variables\n",
    "        \n",
    "    def format(self, input_dict):\n",
    "        return self.template.format(**input_dict)\n",
    "    \n",
    "    \n",
    "        "
   ]
  },
  {
   "cell_type": "code",
   "execution_count": 12,
   "id": "846fef7b",
   "metadata": {},
   "outputs": [],
   "source": [
    "template = NakliPromptTamplate(\n",
    "    template=\"Write a {length} poem about {topic}\",\n",
    "    input_variables=[\"length\",\"topic\"]\n",
    ")"
   ]
  },
  {
   "cell_type": "code",
   "execution_count": 15,
   "id": "00e5aeeb",
   "metadata": {},
   "outputs": [],
   "source": [
    "prompt = template.format({'topic':'india', 'length':'short'})\n"
   ]
  },
  {
   "cell_type": "code",
   "execution_count": 17,
   "id": "e89b02a3",
   "metadata": {},
   "outputs": [
    {
     "name": "stdout",
     "output_type": "stream",
     "text": [
      "Write a short poem about india\n"
     ]
    }
   ],
   "source": [
    "print(prompt)"
   ]
  },
  {
   "cell_type": "code",
   "execution_count": 19,
   "id": "c62b10d4",
   "metadata": {},
   "outputs": [
    {
     "name": "stdout",
     "output_type": "stream",
     "text": [
      "LLM Created\n"
     ]
    }
   ],
   "source": [
    "llm = NakliLLM()"
   ]
  },
  {
   "cell_type": "code",
   "execution_count": 20,
   "id": "20c23a18",
   "metadata": {},
   "outputs": [
    {
     "data": {
      "text/plain": [
       "'Delhi is the capital of India.'"
      ]
     },
     "execution_count": 20,
     "metadata": {},
     "output_type": "execute_result"
    }
   ],
   "source": [
    "llm.predict(prompt)"
   ]
  },
  {
   "cell_type": "code",
   "execution_count": 26,
   "id": "ae7c39d4",
   "metadata": {},
   "outputs": [],
   "source": [
    "# nakli llm chain\n",
    "class NakliLLMChain:\n",
    "    \n",
    "    def __init__(self, llm, prompt):\n",
    "        self.llm = llm\n",
    "        self.prompt = prompt\n",
    "        \n",
    "    def run(self, input_dict):\n",
    "        final_prompt = self.prompt.format(input_dict)\n",
    "        result = self.llm.predict(final_prompt)\n",
    "        \n",
    "        return result"
   ]
  },
  {
   "cell_type": "code",
   "execution_count": 27,
   "id": "b36fbf14",
   "metadata": {},
   "outputs": [],
   "source": [
    "template = NakliPromptTamplate(\n",
    "    template=\"Write a {length} poem about {topic}\",\n",
    "    input_variables=[\"length\",\"topic\"]\n",
    ")"
   ]
  },
  {
   "cell_type": "code",
   "execution_count": 23,
   "id": "c1df5d53",
   "metadata": {},
   "outputs": [
    {
     "name": "stdout",
     "output_type": "stream",
     "text": [
      "LLM Created\n"
     ]
    }
   ],
   "source": [
    "llm = NakliLLM()"
   ]
  },
  {
   "cell_type": "code",
   "execution_count": 28,
   "id": "664e0826",
   "metadata": {},
   "outputs": [],
   "source": [
    "chain = NakliLLMChain(llm=llm, prompt=template)"
   ]
  },
  {
   "cell_type": "code",
   "execution_count": 29,
   "id": "74a09f22",
   "metadata": {},
   "outputs": [
    {
     "data": {
      "text/plain": [
       "'IPL is a cricket legue.'"
      ]
     },
     "execution_count": 29,
     "metadata": {},
     "output_type": "execute_result"
    }
   ],
   "source": [
    "chain.run({'topic':'india', 'length':'short'})"
   ]
  },
  {
   "cell_type": "code",
   "execution_count": null,
   "id": "dc3d50b3",
   "metadata": {},
   "outputs": [],
   "source": []
  }
 ],
 "metadata": {
  "kernelspec": {
   "display_name": "Python 3",
   "language": "python",
   "name": "python3"
  },
  "language_info": {
   "codemirror_mode": {
    "name": "ipython",
    "version": 3
   },
   "file_extension": ".py",
   "mimetype": "text/x-python",
   "name": "python",
   "nbconvert_exporter": "python",
   "pygments_lexer": "ipython3",
   "version": "3.10.18"
  }
 },
 "nbformat": 4,
 "nbformat_minor": 5
}
