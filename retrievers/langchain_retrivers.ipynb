{
 "cells": [
  {
   "cell_type": "code",
   "execution_count": 1,
   "id": "0f9e55ea",
   "metadata": {},
   "outputs": [
    {
     "name": "stdout",
     "output_type": "stream",
     "text": [
      "Defaulting to user installation because normal site-packages is not writeable\n",
      "Requirement already satisfied: langchain in /home/ubuntu/.local/lib/python3.10/site-packages (0.3.27)\n",
      "Requirement already satisfied: chromadb in /home/ubuntu/.local/lib/python3.10/site-packages (1.1.0)\n",
      "Requirement already satisfied: faiss-cpu in /home/ubuntu/.local/lib/python3.10/site-packages (1.12.0)\n",
      "Requirement already satisfied: langchain_google_genai in /home/ubuntu/.local/lib/python3.10/site-packages (2.1.12)\n",
      "Requirement already satisfied: tiktoken in /home/ubuntu/.local/lib/python3.10/site-packages (0.11.0)\n",
      "Requirement already satisfied: langchain_community in /home/ubuntu/.local/lib/python3.10/site-packages (0.3.30)\n",
      "Requirement already satisfied: langchain-core<1.0.0,>=0.3.72 in /home/ubuntu/.local/lib/python3.10/site-packages (from langchain) (0.3.77)\n",
      "Requirement already satisfied: langchain-text-splitters<1.0.0,>=0.3.9 in /home/ubuntu/.local/lib/python3.10/site-packages (from langchain) (0.3.11)\n",
      "Requirement already satisfied: langsmith>=0.1.17 in /home/ubuntu/.local/lib/python3.10/site-packages (from langchain) (0.4.31)\n",
      "Requirement already satisfied: pydantic<3.0.0,>=2.7.4 in /home/ubuntu/.local/lib/python3.10/site-packages (from langchain) (2.11.9)\n",
      "Requirement already satisfied: SQLAlchemy<3,>=1.4 in /home/ubuntu/.local/lib/python3.10/site-packages (from langchain) (2.0.43)\n",
      "Requirement already satisfied: requests<3,>=2 in /home/ubuntu/.local/lib/python3.10/site-packages (from langchain) (2.32.5)\n",
      "Requirement already satisfied: PyYAML>=5.3 in /usr/lib/python3/dist-packages (from langchain) (6.0.1)\n",
      "Requirement already satisfied: async-timeout<5.0.0,>=4.0.0 in /home/ubuntu/.local/lib/python3.10/site-packages (from langchain) (4.0.3)\n",
      "Requirement already satisfied: tenacity!=8.4.0,<10.0.0,>=8.1.0 in /home/ubuntu/.local/lib/python3.10/site-packages (from langchain-core<1.0.0,>=0.3.72->langchain) (9.1.2)\n",
      "Requirement already satisfied: jsonpatch<2.0.0,>=1.33.0 in /home/ubuntu/.local/lib/python3.10/site-packages (from langchain-core<1.0.0,>=0.3.72->langchain) (1.33)\n",
      "Requirement already satisfied: typing-extensions<5.0.0,>=4.7.0 in /home/ubuntu/.local/lib/python3.10/site-packages (from langchain-core<1.0.0,>=0.3.72->langchain) (4.15.0)\n",
      "Requirement already satisfied: packaging<26.0.0,>=23.2.0 in /usr/lib/python3/dist-packages (from langchain-core<1.0.0,>=0.3.72->langchain) (24.0)\n",
      "Requirement already satisfied: jsonpointer>=1.9 in /usr/lib/python3/dist-packages (from jsonpatch<2.0.0,>=1.33.0->langchain-core<1.0.0,>=0.3.72->langchain) (2.0)\n",
      "Requirement already satisfied: httpx<1,>=0.23.0 in /home/ubuntu/.local/lib/python3.10/site-packages (from langsmith>=0.1.17->langchain) (0.28.1)\n",
      "Requirement already satisfied: orjson>=3.9.14 in /home/ubuntu/.local/lib/python3.10/site-packages (from langsmith>=0.1.17->langchain) (3.11.3)\n",
      "Requirement already satisfied: requests-toolbelt>=1.0.0 in /home/ubuntu/.local/lib/python3.10/site-packages (from langsmith>=0.1.17->langchain) (1.0.0)\n",
      "Requirement already satisfied: zstandard>=0.23.0 in /home/ubuntu/.local/lib/python3.10/site-packages (from langsmith>=0.1.17->langchain) (0.25.0)\n",
      "Requirement already satisfied: anyio in /home/ubuntu/.local/lib/python3.10/site-packages (from httpx<1,>=0.23.0->langsmith>=0.1.17->langchain) (4.11.0)\n",
      "Requirement already satisfied: certifi in /usr/lib/python3/dist-packages (from httpx<1,>=0.23.0->langsmith>=0.1.17->langchain) (2023.11.17)\n",
      "Requirement already satisfied: httpcore==1.* in /home/ubuntu/.local/lib/python3.10/site-packages (from httpx<1,>=0.23.0->langsmith>=0.1.17->langchain) (1.0.9)\n",
      "Requirement already satisfied: idna in /usr/lib/python3/dist-packages (from httpx<1,>=0.23.0->langsmith>=0.1.17->langchain) (3.6)\n",
      "Requirement already satisfied: h11>=0.16 in /home/ubuntu/.local/lib/python3.10/site-packages (from httpcore==1.*->httpx<1,>=0.23.0->langsmith>=0.1.17->langchain) (0.16.0)\n",
      "Requirement already satisfied: annotated-types>=0.6.0 in /home/ubuntu/.local/lib/python3.10/site-packages (from pydantic<3.0.0,>=2.7.4->langchain) (0.7.0)\n",
      "Requirement already satisfied: pydantic-core==2.33.2 in /home/ubuntu/.local/lib/python3.10/site-packages (from pydantic<3.0.0,>=2.7.4->langchain) (2.33.2)\n",
      "Requirement already satisfied: typing-inspection>=0.4.0 in /home/ubuntu/.local/lib/python3.10/site-packages (from pydantic<3.0.0,>=2.7.4->langchain) (0.4.2)\n",
      "Requirement already satisfied: charset_normalizer<4,>=2 in /home/ubuntu/.local/lib/python3.10/site-packages (from requests<3,>=2->langchain) (3.4.3)\n",
      "Requirement already satisfied: urllib3<3,>=1.21.1 in /usr/lib/python3/dist-packages (from requests<3,>=2->langchain) (2.0.7)\n",
      "Requirement already satisfied: greenlet>=1 in /home/ubuntu/.local/lib/python3.10/site-packages (from SQLAlchemy<3,>=1.4->langchain) (3.2.4)\n",
      "Requirement already satisfied: build>=1.0.3 in /home/ubuntu/.local/lib/python3.10/site-packages (from chromadb) (1.3.0)\n",
      "Requirement already satisfied: pybase64>=1.4.1 in /home/ubuntu/.local/lib/python3.10/site-packages (from chromadb) (1.4.2)\n",
      "Requirement already satisfied: uvicorn>=0.18.3 in /usr/lib/python3/dist-packages (from uvicorn[standard]>=0.18.3->chromadb) (0.27.1)\n",
      "Requirement already satisfied: numpy>=1.22.5 in /home/ubuntu/.local/lib/python3.10/site-packages (from chromadb) (2.2.6)\n",
      "Requirement already satisfied: posthog<6.0.0,>=2.4.0 in /home/ubuntu/.local/lib/python3.10/site-packages (from chromadb) (5.4.0)\n",
      "Requirement already satisfied: onnxruntime>=1.14.1 in /home/ubuntu/.local/lib/python3.10/site-packages (from chromadb) (1.23.0)\n",
      "Requirement already satisfied: opentelemetry-api>=1.2.0 in /home/ubuntu/.local/lib/python3.10/site-packages (from chromadb) (1.37.0)\n",
      "Requirement already satisfied: opentelemetry-exporter-otlp-proto-grpc>=1.2.0 in /home/ubuntu/.local/lib/python3.10/site-packages (from chromadb) (1.37.0)\n",
      "Requirement already satisfied: opentelemetry-sdk>=1.2.0 in /home/ubuntu/.local/lib/python3.10/site-packages (from chromadb) (1.37.0)\n",
      "Requirement already satisfied: tokenizers>=0.13.2 in /home/ubuntu/.local/lib/python3.10/site-packages (from chromadb) (0.22.1)\n",
      "Requirement already satisfied: pypika>=0.48.9 in /home/ubuntu/.local/lib/python3.10/site-packages (from chromadb) (0.48.9)\n",
      "Requirement already satisfied: tqdm>=4.65.0 in /home/ubuntu/.local/lib/python3.10/site-packages (from chromadb) (4.67.1)\n",
      "Requirement already satisfied: overrides>=7.3.1 in /home/ubuntu/.local/lib/python3.10/site-packages (from chromadb) (7.7.0)\n",
      "Requirement already satisfied: importlib-resources in /home/ubuntu/.local/lib/python3.10/site-packages (from chromadb) (6.5.2)\n",
      "Requirement already satisfied: grpcio>=1.58.0 in /home/ubuntu/.local/lib/python3.10/site-packages (from chromadb) (1.75.1)\n",
      "Requirement already satisfied: bcrypt>=4.0.1 in /home/ubuntu/.local/lib/python3.10/site-packages (from chromadb) (5.0.0)\n",
      "Requirement already satisfied: typer>=0.9.0 in /home/ubuntu/.local/lib/python3.10/site-packages (from chromadb) (0.19.2)\n",
      "Requirement already satisfied: kubernetes>=28.1.0 in /home/ubuntu/.local/lib/python3.10/site-packages (from chromadb) (34.1.0)\n",
      "Requirement already satisfied: mmh3>=4.0.1 in /home/ubuntu/.local/lib/python3.10/site-packages (from chromadb) (5.2.0)\n",
      "Requirement already satisfied: rich>=10.11.0 in /usr/lib/python3/dist-packages (from chromadb) (13.7.1)\n",
      "Requirement already satisfied: jsonschema>=4.19.0 in /home/ubuntu/.local/lib/python3.10/site-packages (from chromadb) (4.25.1)\n",
      "Requirement already satisfied: six>=1.5 in /usr/lib/python3/dist-packages (from posthog<6.0.0,>=2.4.0->chromadb) (1.16.0)\n",
      "Requirement already satisfied: python-dateutil>=2.2 in /usr/lib/python3/dist-packages (from posthog<6.0.0,>=2.4.0->chromadb) (2.8.2)\n",
      "Requirement already satisfied: backoff>=1.10.0 in /home/ubuntu/.local/lib/python3.10/site-packages (from posthog<6.0.0,>=2.4.0->chromadb) (2.2.1)\n",
      "Requirement already satisfied: distro>=1.5.0 in /usr/lib/python3/dist-packages (from posthog<6.0.0,>=2.4.0->chromadb) (1.9.0)\n",
      "Requirement already satisfied: google-ai-generativelanguage<1,>=0.7 in /home/ubuntu/.local/lib/python3.10/site-packages (from langchain_google_genai) (0.7.0)\n",
      "Requirement already satisfied: filetype<2,>=1.2 in /home/ubuntu/.local/lib/python3.10/site-packages (from langchain_google_genai) (1.2.0)\n",
      "Requirement already satisfied: google-api-core!=2.0.*,!=2.1.*,!=2.10.*,!=2.2.*,!=2.3.*,!=2.4.*,!=2.5.*,!=2.6.*,!=2.7.*,!=2.8.*,!=2.9.*,<3.0.0,>=1.34.1 in /home/ubuntu/.local/lib/python3.10/site-packages (from google-api-core[grpc]!=2.0.*,!=2.1.*,!=2.10.*,!=2.2.*,!=2.3.*,!=2.4.*,!=2.5.*,!=2.6.*,!=2.7.*,!=2.8.*,!=2.9.*,<3.0.0,>=1.34.1->google-ai-generativelanguage<1,>=0.7->langchain_google_genai) (2.25.1)\n",
      "Requirement already satisfied: google-auth!=2.24.0,!=2.25.0,<3.0.0,>=2.14.1 in /home/ubuntu/.local/lib/python3.10/site-packages (from google-ai-generativelanguage<1,>=0.7->langchain_google_genai) (2.41.1)\n",
      "Requirement already satisfied: proto-plus<2.0.0,>=1.22.3 in /home/ubuntu/.local/lib/python3.10/site-packages (from google-ai-generativelanguage<1,>=0.7->langchain_google_genai) (1.26.1)\n",
      "Requirement already satisfied: protobuf!=4.21.0,!=4.21.1,!=4.21.2,!=4.21.3,!=4.21.4,!=4.21.5,<7.0.0,>=3.20.2 in /home/ubuntu/.local/lib/python3.10/site-packages (from google-ai-generativelanguage<1,>=0.7->langchain_google_genai) (6.32.1)\n",
      "Requirement already satisfied: googleapis-common-protos<2.0.0,>=1.56.2 in /home/ubuntu/.local/lib/python3.10/site-packages (from google-api-core!=2.0.*,!=2.1.*,!=2.10.*,!=2.2.*,!=2.3.*,!=2.4.*,!=2.5.*,!=2.6.*,!=2.7.*,!=2.8.*,!=2.9.*,<3.0.0,>=1.34.1->google-api-core[grpc]!=2.0.*,!=2.1.*,!=2.10.*,!=2.2.*,!=2.3.*,!=2.4.*,!=2.5.*,!=2.6.*,!=2.7.*,!=2.8.*,!=2.9.*,<3.0.0,>=1.34.1->google-ai-generativelanguage<1,>=0.7->langchain_google_genai) (1.70.0)\n",
      "Requirement already satisfied: grpcio-status<2.0.0,>=1.33.2 in /home/ubuntu/.local/lib/python3.10/site-packages (from google-api-core[grpc]!=2.0.*,!=2.1.*,!=2.10.*,!=2.2.*,!=2.3.*,!=2.4.*,!=2.5.*,!=2.6.*,!=2.7.*,!=2.8.*,!=2.9.*,<3.0.0,>=1.34.1->google-ai-generativelanguage<1,>=0.7->langchain_google_genai) (1.75.1)\n",
      "Requirement already satisfied: cachetools<7.0,>=2.0.0 in /home/ubuntu/.local/lib/python3.10/site-packages (from google-auth!=2.24.0,!=2.25.0,<3.0.0,>=2.14.1->google-ai-generativelanguage<1,>=0.7->langchain_google_genai) (6.2.0)\n",
      "Requirement already satisfied: pyasn1-modules>=0.2.1 in /usr/lib/python3/dist-packages (from google-auth!=2.24.0,!=2.25.0,<3.0.0,>=2.14.1->google-ai-generativelanguage<1,>=0.7->langchain_google_genai) (0.2.8)\n",
      "Requirement already satisfied: rsa<5,>=3.1.4 in /home/ubuntu/.local/lib/python3.10/site-packages (from google-auth!=2.24.0,!=2.25.0,<3.0.0,>=2.14.1->google-ai-generativelanguage<1,>=0.7->langchain_google_genai) (4.9.1)\n",
      "Requirement already satisfied: pyasn1>=0.1.3 in /usr/lib/python3/dist-packages (from rsa<5,>=3.1.4->google-auth!=2.24.0,!=2.25.0,<3.0.0,>=2.14.1->google-ai-generativelanguage<1,>=0.7->langchain_google_genai) (0.4.8)\n",
      "Requirement already satisfied: regex>=2022.1.18 in /home/ubuntu/.local/lib/python3.10/site-packages (from tiktoken) (2025.9.18)\n",
      "Requirement already satisfied: aiohttp<4.0.0,>=3.8.3 in /home/ubuntu/.local/lib/python3.10/site-packages (from langchain_community) (3.12.15)\n",
      "Requirement already satisfied: dataclasses-json<0.7.0,>=0.6.7 in /home/ubuntu/.local/lib/python3.10/site-packages (from langchain_community) (0.6.7)\n",
      "Requirement already satisfied: pydantic-settings<3.0.0,>=2.10.1 in /home/ubuntu/.local/lib/python3.10/site-packages (from langchain_community) (2.11.0)\n",
      "Requirement already satisfied: httpx-sse<1.0.0,>=0.4.0 in /home/ubuntu/.local/lib/python3.10/site-packages (from langchain_community) (0.4.1)\n",
      "Requirement already satisfied: aiohappyeyeballs>=2.5.0 in /home/ubuntu/.local/lib/python3.10/site-packages (from aiohttp<4.0.0,>=3.8.3->langchain_community) (2.6.1)\n",
      "Requirement already satisfied: aiosignal>=1.4.0 in /home/ubuntu/.local/lib/python3.10/site-packages (from aiohttp<4.0.0,>=3.8.3->langchain_community) (1.4.0)\n",
      "Requirement already satisfied: attrs>=17.3.0 in /usr/lib/python3/dist-packages (from aiohttp<4.0.0,>=3.8.3->langchain_community) (23.2.0)\n",
      "Requirement already satisfied: frozenlist>=1.1.1 in /home/ubuntu/.local/lib/python3.10/site-packages (from aiohttp<4.0.0,>=3.8.3->langchain_community) (1.7.0)\n",
      "Requirement already satisfied: multidict<7.0,>=4.5 in /home/ubuntu/.local/lib/python3.10/site-packages (from aiohttp<4.0.0,>=3.8.3->langchain_community) (6.6.4)\n",
      "Requirement already satisfied: propcache>=0.2.0 in /home/ubuntu/.local/lib/python3.10/site-packages (from aiohttp<4.0.0,>=3.8.3->langchain_community) (0.3.2)\n",
      "Requirement already satisfied: yarl<2.0,>=1.17.0 in /home/ubuntu/.local/lib/python3.10/site-packages (from aiohttp<4.0.0,>=3.8.3->langchain_community) (1.20.1)\n",
      "Requirement already satisfied: marshmallow<4.0.0,>=3.18.0 in /home/ubuntu/.local/lib/python3.10/site-packages (from dataclasses-json<0.7.0,>=0.6.7->langchain_community) (3.26.1)\n",
      "Requirement already satisfied: typing-inspect<1,>=0.4.0 in /home/ubuntu/.local/lib/python3.10/site-packages (from dataclasses-json<0.7.0,>=0.6.7->langchain_community) (0.9.0)\n",
      "Requirement already satisfied: python-dotenv>=0.21.0 in /home/ubuntu/.local/lib/python3.10/site-packages (from pydantic-settings<3.0.0,>=2.10.1->langchain_community) (1.1.1)\n",
      "Requirement already satisfied: mypy-extensions>=0.3.0 in /home/ubuntu/.local/lib/python3.10/site-packages (from typing-inspect<1,>=0.4.0->dataclasses-json<0.7.0,>=0.6.7->langchain_community) (1.1.0)\n",
      "Requirement already satisfied: pyproject_hooks in /home/ubuntu/.local/lib/python3.10/site-packages (from build>=1.0.3->chromadb) (1.2.0)\n",
      "Requirement already satisfied: tomli>=1.1.0 in /home/ubuntu/.local/lib/python3.10/site-packages (from build>=1.0.3->chromadb) (2.2.1)\n",
      "Requirement already satisfied: jsonschema-specifications>=2023.03.6 in /home/ubuntu/.local/lib/python3.10/site-packages (from jsonschema>=4.19.0->chromadb) (2025.9.1)\n",
      "Requirement already satisfied: referencing>=0.28.4 in /home/ubuntu/.local/lib/python3.10/site-packages (from jsonschema>=4.19.0->chromadb) (0.36.2)\n",
      "Requirement already satisfied: rpds-py>=0.7.1 in /home/ubuntu/.local/lib/python3.10/site-packages (from jsonschema>=4.19.0->chromadb) (0.27.1)\n",
      "Requirement already satisfied: websocket-client!=0.40.0,!=0.41.*,!=0.42.*,>=0.32.0 in /home/ubuntu/.local/lib/python3.10/site-packages (from kubernetes>=28.1.0->chromadb) (1.8.0)\n",
      "Requirement already satisfied: requests-oauthlib in /home/ubuntu/.local/lib/python3.10/site-packages (from kubernetes>=28.1.0->chromadb) (2.0.0)\n",
      "Requirement already satisfied: durationpy>=0.7 in /home/ubuntu/.local/lib/python3.10/site-packages (from kubernetes>=28.1.0->chromadb) (0.10)\n",
      "Requirement already satisfied: coloredlogs in /home/ubuntu/.local/lib/python3.10/site-packages (from onnxruntime>=1.14.1->chromadb) (15.0.1)\n",
      "Requirement already satisfied: flatbuffers in /home/ubuntu/.local/lib/python3.10/site-packages (from onnxruntime>=1.14.1->chromadb) (25.9.23)\n",
      "Requirement already satisfied: sympy in /home/ubuntu/.local/lib/python3.10/site-packages (from onnxruntime>=1.14.1->chromadb) (1.14.0)\n",
      "Requirement already satisfied: importlib-metadata<8.8.0,>=6.0 in /home/ubuntu/.local/lib/python3.10/site-packages (from opentelemetry-api>=1.2.0->chromadb) (8.7.0)\n",
      "Requirement already satisfied: zipp>=3.20 in /home/ubuntu/.local/lib/python3.10/site-packages (from importlib-metadata<8.8.0,>=6.0->opentelemetry-api>=1.2.0->chromadb) (3.23.0)\n",
      "Requirement already satisfied: opentelemetry-exporter-otlp-proto-common==1.37.0 in /home/ubuntu/.local/lib/python3.10/site-packages (from opentelemetry-exporter-otlp-proto-grpc>=1.2.0->chromadb) (1.37.0)\n",
      "Requirement already satisfied: opentelemetry-proto==1.37.0 in /home/ubuntu/.local/lib/python3.10/site-packages (from opentelemetry-exporter-otlp-proto-grpc>=1.2.0->chromadb) (1.37.0)\n",
      "Requirement already satisfied: opentelemetry-semantic-conventions==0.58b0 in /home/ubuntu/.local/lib/python3.10/site-packages (from opentelemetry-sdk>=1.2.0->chromadb) (0.58b0)\n",
      "Requirement already satisfied: markdown-it-py>=2.2.0 in /usr/lib/python3/dist-packages (from rich>=10.11.0->chromadb) (3.0.0)\n",
      "Requirement already satisfied: pygments<3.0.0,>=2.13.0 in /usr/lib/python3/dist-packages (from rich>=10.11.0->chromadb) (2.17.2)\n",
      "Requirement already satisfied: mdurl~=0.1 in /usr/lib/python3/dist-packages (from markdown-it-py>=2.2.0->rich>=10.11.0->chromadb) (0.1.2)\n",
      "Requirement already satisfied: huggingface-hub<2.0,>=0.16.4 in /home/ubuntu/.local/lib/python3.10/site-packages (from tokenizers>=0.13.2->chromadb) (0.35.3)\n",
      "Requirement already satisfied: filelock in /home/ubuntu/.local/lib/python3.10/site-packages (from huggingface-hub<2.0,>=0.16.4->tokenizers>=0.13.2->chromadb) (3.19.1)\n",
      "Requirement already satisfied: fsspec>=2023.5.0 in /home/ubuntu/.local/lib/python3.10/site-packages (from huggingface-hub<2.0,>=0.16.4->tokenizers>=0.13.2->chromadb) (2025.9.0)\n",
      "Requirement already satisfied: hf-xet<2.0.0,>=1.1.3 in /home/ubuntu/.local/lib/python3.10/site-packages (from huggingface-hub<2.0,>=0.16.4->tokenizers>=0.13.2->chromadb) (1.1.10)\n",
      "Requirement already satisfied: click>=8.0.0 in /usr/lib/python3/dist-packages (from typer>=0.9.0->chromadb) (8.1.6)\n",
      "Requirement already satisfied: shellingham>=1.3.0 in /home/ubuntu/.local/lib/python3.10/site-packages (from typer>=0.9.0->chromadb) (1.5.4)\n",
      "Requirement already satisfied: httptools>=0.5.0 in /home/ubuntu/.local/lib/python3.10/site-packages (from uvicorn[standard]>=0.18.3->chromadb) (0.6.4)\n",
      "Requirement already satisfied: uvloop!=0.15.0,!=0.15.1,>=0.14.0 in /usr/lib/python3/dist-packages (from uvicorn[standard]>=0.18.3->chromadb) (0.19.0)\n",
      "Requirement already satisfied: watchfiles>=0.13 in /home/ubuntu/.local/lib/python3.10/site-packages (from uvicorn[standard]>=0.18.3->chromadb) (1.1.0)\n",
      "Requirement already satisfied: websockets>=10.4 in /home/ubuntu/.local/lib/python3.10/site-packages (from uvicorn[standard]>=0.18.3->chromadb) (15.0.1)\n",
      "Requirement already satisfied: exceptiongroup>=1.0.2 in /home/ubuntu/.local/lib/python3.10/site-packages (from anyio->httpx<1,>=0.23.0->langsmith>=0.1.17->langchain) (1.3.0)\n",
      "Requirement already satisfied: sniffio>=1.1 in /home/ubuntu/.local/lib/python3.10/site-packages (from anyio->httpx<1,>=0.23.0->langsmith>=0.1.17->langchain) (1.3.1)\n",
      "Requirement already satisfied: humanfriendly>=9.1 in /home/ubuntu/.local/lib/python3.10/site-packages (from coloredlogs->onnxruntime>=1.14.1->chromadb) (10.0)\n",
      "Requirement already satisfied: oauthlib>=3.0.0 in /usr/lib/python3/dist-packages (from requests-oauthlib->kubernetes>=28.1.0->chromadb) (3.2.2)\n",
      "Requirement already satisfied: mpmath<1.4,>=1.1.0 in /home/ubuntu/.local/lib/python3.10/site-packages (from sympy->onnxruntime>=1.14.1->chromadb) (1.3.0)\n",
      "Note: you may need to restart the kernel to use updated packages.\n"
     ]
    }
   ],
   "source": [
    "pip install langchain chromadb faiss-cpu langchain_google_genai tiktoken langchain_community"
   ]
  },
  {
   "cell_type": "code",
   "execution_count": 2,
   "id": "633911c8",
   "metadata": {},
   "outputs": [
    {
     "name": "stdout",
     "output_type": "stream",
     "text": [
      "/bin/python3.10\n"
     ]
    }
   ],
   "source": [
    "import sys\n",
    "print(sys.executable)\n",
    "\n"
   ]
  },
  {
   "cell_type": "code",
   "execution_count": 3,
   "id": "cd445387",
   "metadata": {},
   "outputs": [
    {
     "name": "stdout",
     "output_type": "stream",
     "text": [
      "Defaulting to user installation because normal site-packages is not writeable\n"
     ]
    },
    {
     "name": "stdout",
     "output_type": "stream",
     "text": [
      "Requirement already satisfied: wikipedia in /home/ubuntu/.local/lib/python3.10/site-packages (1.4.0)\n",
      "Requirement already satisfied: beautifulsoup4 in /home/ubuntu/.local/lib/python3.10/site-packages (from wikipedia) (4.14.2)\n",
      "Requirement already satisfied: requests<3.0.0,>=2.0.0 in /home/ubuntu/.local/lib/python3.10/site-packages (from wikipedia) (2.32.5)\n",
      "Requirement already satisfied: charset_normalizer<4,>=2 in /home/ubuntu/.local/lib/python3.10/site-packages (from requests<3.0.0,>=2.0.0->wikipedia) (3.4.3)\n",
      "Requirement already satisfied: idna<4,>=2.5 in /usr/lib/python3/dist-packages (from requests<3.0.0,>=2.0.0->wikipedia) (3.6)\n",
      "Requirement already satisfied: urllib3<3,>=1.21.1 in /usr/lib/python3/dist-packages (from requests<3.0.0,>=2.0.0->wikipedia) (2.0.7)\n",
      "Requirement already satisfied: certifi>=2017.4.17 in /usr/lib/python3/dist-packages (from requests<3.0.0,>=2.0.0->wikipedia) (2023.11.17)\n",
      "Requirement already satisfied: soupsieve>1.2 in /home/ubuntu/.local/lib/python3.10/site-packages (from beautifulsoup4->wikipedia) (2.8)\n",
      "Requirement already satisfied: typing-extensions>=4.0.0 in /home/ubuntu/.local/lib/python3.10/site-packages (from beautifulsoup4->wikipedia) (4.15.0)\n",
      "Note: you may need to restart the kernel to use updated packages.\n"
     ]
    }
   ],
   "source": [
    "pip install wikipedia"
   ]
  },
  {
   "cell_type": "code",
   "execution_count": 20,
   "id": "76a1be7e",
   "metadata": {},
   "outputs": [
    {
     "name": "stdout",
     "output_type": "stream",
     "text": [
      "Defaulting to user installation because normal site-packages is not writeable\n",
      "Requirement already satisfied: pip in /usr/lib/python3/dist-packages (24.0)\n",
      "Collecting pip\n",
      "  Downloading pip-25.2-py3-none-any.whl.metadata (4.7 kB)\n",
      "Requirement already satisfied: setuptools in /usr/lib/python3/dist-packages (68.1.2)\n",
      "Collecting setuptools\n",
      "  Using cached setuptools-80.9.0-py3-none-any.whl.metadata (6.6 kB)\n",
      "Requirement already satisfied: wheel in /usr/lib/python3/dist-packages (0.42.0)\n",
      "Collecting wheel\n",
      "  Downloading wheel-0.45.1-py3-none-any.whl.metadata (2.3 kB)\n",
      "Downloading pip-25.2-py3-none-any.whl (1.8 MB)\n",
      "\u001b[2K   \u001b[90m━━━━━━━━━━━━━━━━━━━━━━━━━━━━━━━━━━━━━━━━\u001b[0m \u001b[32m1.8/1.8 MB\u001b[0m \u001b[31m42.3 MB/s\u001b[0m eta \u001b[36m0:00:00\u001b[0m00:01\u001b[0m\n",
      "\u001b[?25hUsing cached setuptools-80.9.0-py3-none-any.whl (1.2 MB)\n",
      "Downloading wheel-0.45.1-py3-none-any.whl (72 kB)\n",
      "\u001b[2K   \u001b[90m━━━━━━━━━━━━━━━━━━━━━━━━━━━━━━━━━━━━━━━━\u001b[0m \u001b[32m72.5/72.5 kB\u001b[0m \u001b[31m6.5 MB/s\u001b[0m eta \u001b[36m0:00:00\u001b[0m\n",
      "\u001b[?25hInstalling collected packages: wheel, setuptools, pip\n",
      "Successfully installed pip-25.2 setuptools-80.9.0 wheel-0.45.1\n",
      "Note: you may need to restart the kernel to use updated packages.\n"
     ]
    }
   ],
   "source": [
    "pip install --upgrade pip setuptools wheel\n"
   ]
  },
  {
   "cell_type": "code",
   "execution_count": 4,
   "id": "7292f7b5",
   "metadata": {},
   "outputs": [
    {
     "name": "stdout",
     "output_type": "stream",
     "text": [
      "Defaulting to user installation because normal site-packages is not writeable\n",
      "Requirement already satisfied: beautifulsoup4 in /home/ubuntu/.local/lib/python3.10/site-packages (4.14.2)\n",
      "Requirement already satisfied: requests in /home/ubuntu/.local/lib/python3.10/site-packages (2.32.5)\n",
      "Requirement already satisfied: lxml in /home/ubuntu/.local/lib/python3.10/site-packages (6.0.2)\n",
      "Requirement already satisfied: soupsieve>1.2 in /home/ubuntu/.local/lib/python3.10/site-packages (from beautifulsoup4) (2.8)\n",
      "Requirement already satisfied: typing-extensions>=4.0.0 in /home/ubuntu/.local/lib/python3.10/site-packages (from beautifulsoup4) (4.15.0)\n",
      "Requirement already satisfied: charset_normalizer<4,>=2 in /home/ubuntu/.local/lib/python3.10/site-packages (from requests) (3.4.3)\n",
      "Requirement already satisfied: idna<4,>=2.5 in /usr/lib/python3/dist-packages (from requests) (3.6)\n",
      "Requirement already satisfied: urllib3<3,>=1.21.1 in /usr/lib/python3/dist-packages (from requests) (2.0.7)\n",
      "Requirement already satisfied: certifi>=2017.4.17 in /usr/lib/python3/dist-packages (from requests) (2023.11.17)\n",
      "Note: you may need to restart the kernel to use updated packages.\n"
     ]
    }
   ],
   "source": [
    "pip install beautifulsoup4 requests lxml"
   ]
  },
  {
   "cell_type": "code",
   "execution_count": 22,
   "id": "ef57cff8",
   "metadata": {},
   "outputs": [
    {
     "name": "stdout",
     "output_type": "stream",
     "text": [
      "Defaulting to user installation because normal site-packages is not writeable\n",
      "Collecting wikipedia\n",
      "  Using cached wikipedia-1.4.0.tar.gz (27 kB)\n",
      "  Preparing metadata (setup.py) ... \u001b[?25ldone\n",
      "\u001b[?25hRequirement already satisfied: beautifulsoup4 in /home/ubuntu/.local/lib/python3.10/site-packages (from wikipedia) (4.14.2)\n",
      "Requirement already satisfied: requests<3.0.0,>=2.0.0 in /home/ubuntu/.local/lib/python3.10/site-packages (from wikipedia) (2.32.5)\n",
      "Requirement already satisfied: charset_normalizer<4,>=2 in /home/ubuntu/.local/lib/python3.10/site-packages (from requests<3.0.0,>=2.0.0->wikipedia) (3.4.3)\n",
      "Requirement already satisfied: idna<4,>=2.5 in /usr/lib/python3/dist-packages (from requests<3.0.0,>=2.0.0->wikipedia) (3.6)\n",
      "Requirement already satisfied: urllib3<3,>=1.21.1 in /usr/lib/python3/dist-packages (from requests<3.0.0,>=2.0.0->wikipedia) (2.0.7)\n",
      "Requirement already satisfied: certifi>=2017.4.17 in /usr/lib/python3/dist-packages (from requests<3.0.0,>=2.0.0->wikipedia) (2023.11.17)\n",
      "Requirement already satisfied: soupsieve>1.2 in /home/ubuntu/.local/lib/python3.10/site-packages (from beautifulsoup4->wikipedia) (2.8)\n",
      "Requirement already satisfied: typing-extensions>=4.0.0 in /home/ubuntu/.local/lib/python3.10/site-packages (from beautifulsoup4->wikipedia) (4.15.0)\n",
      "Building wheels for collected packages: wikipedia\n",
      "\u001b[33m  DEPRECATION: Building 'wikipedia' using the legacy setup.py bdist_wheel mechanism, which will be removed in a future version. pip 25.3 will enforce this behaviour change. A possible replacement is to use the standardized build interface by setting the `--use-pep517` option, (possibly combined with `--no-build-isolation`), or adding a `pyproject.toml` file to the source tree of 'wikipedia'. Discussion can be found at https://github.com/pypa/pip/issues/6334\u001b[0m\u001b[33m\n",
      "\u001b[0m  Building wheel for wikipedia (setup.py) ... \u001b[?25ldone\n",
      "\u001b[?25h  Created wheel for wikipedia: filename=wikipedia-1.4.0-py3-none-any.whl size=11757 sha256=f235b9fff90b5bef02c92f969ade8e0c651af0fff2895e440953800def8e34f3\n",
      "  Stored in directory: /home/ubuntu/.cache/pip/wheels/5e/b6/c5/93f3dec388ae76edc830cb42901bb0232504dfc0df02fc50de\n",
      "Successfully built wikipedia\n",
      "Installing collected packages: wikipedia\n",
      "Successfully installed wikipedia-1.4.0\n",
      "Note: you may need to restart the kernel to use updated packages.\n"
     ]
    }
   ],
   "source": [
    "pip install wikipedia --no-build-isolation"
   ]
  },
  {
   "cell_type": "markdown",
   "id": "9b0ac233",
   "metadata": {},
   "source": [
    "# WikiPedia Retriever"
   ]
  },
  {
   "cell_type": "code",
   "execution_count": null,
   "id": "81a67ef2",
   "metadata": {},
   "outputs": [],
   "source": [
    "import os\n",
    "os.environ[\"GOOGLE_API_KEY\"] = \"AIz\""
   ]
  },
  {
   "cell_type": "code",
   "execution_count": 4,
   "id": "fd901f73",
   "metadata": {},
   "outputs": [],
   "source": [
    "from langchain_community.retrievers import WikipediaRetriever\n",
    "from langchain_google_genai import GoogleGenerativeAIEmbeddings"
   ]
  },
  {
   "cell_type": "code",
   "execution_count": 25,
   "id": "2bedc053",
   "metadata": {},
   "outputs": [],
   "source": [
    "# instentiate the retriever(optional: set language and top_k)\n",
    "retriever = WikipediaRetriever( top_k_results=2, lang= \"en\")"
   ]
  },
  {
   "cell_type": "code",
   "execution_count": 32,
   "id": "703d8fcc",
   "metadata": {},
   "outputs": [],
   "source": [
    "# Define the query\n",
    "query = \"Hisawada village in uttar pradesh?\"\n",
    "\n",
    "#get relevent wikipedia documents\n",
    "docs = retriever.invoke(query)"
   ]
  },
  {
   "cell_type": "code",
   "execution_count": 33,
   "id": "e3f72cd4",
   "metadata": {},
   "outputs": [
    {
     "name": "stdout",
     "output_type": "stream",
     "text": [
      "[Document(metadata={'title': 'Satya Pal Malik', 'summary': \"Satya Pal Malik (24 July 1946 – 5 August 2025) was an Indian politician who served as governor of five Indian states, namely Bihar, Odisha, Jammu and Kashmir, Goa, and Meghalaya.\\nHis first prominent stint as a politician was as a member of Uttar Pradesh Legislative Assembly during 1974–77. He represented Uttar Pradesh in Rajya Sabha from 1980 to 1986 and 1986–89. He was member of the 9th Lok Sabha from Aligarh, from 1989 to 1991, as member of Janata Dal. He was the Governor of Bihar from October 2017 to August 2018. On 21 March 2018, he was also given additional charge to serve as Governor of Odisha up to 28 May 2018. In August 2018, he was appointed Governor to the erstwhile state of Jammu and Kashmir, becoming its 10th and last Governor, and served till October 2019. During his tenure, in August 2019, the state's special status was revoked and it was reorganised into two union territories. Later, he moved to Goa, becoming the 18th governor, and also served as the 21st Governor of Meghalaya, until October 2022.\", 'source': 'https://en.wikipedia.org/wiki/Satya_Pal_Malik'}, page_content='Satya Pal Malik (24 July 1946 – 5 August 2025) was an Indian politician who served as governor of five Indian states, namely Bihar, Odisha, Jammu and Kashmir, Goa, and Meghalaya.\\nHis first prominent stint as a politician was as a member of Uttar Pradesh Legislative Assembly during 1974–77. He represented Uttar Pradesh in Rajya Sabha from 1980 to 1986 and 1986–89. He was member of the 9th Lok Sabha from Aligarh, from 1989 to 1991, as member of Janata Dal. He was the Governor of Bihar from October 2017 to August 2018. On 21 March 2018, he was also given additional charge to serve as Governor of Odisha up to 28 May 2018. In August 2018, he was appointed Governor to the erstwhile state of Jammu and Kashmir, becoming its 10th and last Governor, and served till October 2019. During his tenure, in August 2019, the state\\'s special status was revoked and it was reorganised into two union territories. Later, he moved to Goa, becoming the 18th governor, and also served as the 21st Governor of Meghalaya, until October 2022.\\n\\n\\n== Background ==\\nSatya Pal Malik was born to Budh Singh on 24 July 1946 in Hisawada, a village in the Meerut district of the United Provinces of British India (now in the Bagpat district of Uttar Pradesh, India) into a Hindu Jat family.\\nMalik pursued his Bachelor of Science and Bachelor of Laws degrees from Meerut University. In 1968–69, Malik was elected as the students union president, commencing his political career. He was married to Idbal Malik.\\nMalik died after a prolonged illness on 5 August 2025, at the age of 79.\\n\\n\\n== Politics ==\\n\\n\\n=== Early state politics ===\\nMalik was first elected to any public office as a member of legislative assembly from Baghpat after he successfully contested the election as member of Charan Singh\\'s Bharatiya Kranti Dal. He won the election by receiving 42.4% of the votes cast and defeating his nearest rival Acharya Deepankar of the Communist party of India who got 31.6% of the total votes cast. Later, after the formation of Bharatiya Lok Dal, he joined the party and became the general secretary of Lok Dal.\\n\\n\\n=== National politics ===\\n1980–89: Rajya Sabha Member from Uttar Pradesh\\n1989–91: Member of Lok Sabha from Aligarh, on Janata Dal ticket\\n1996: Lost Lok Sabha Election from Aligarh on SP ticket, came fourth with only 40,789 votes.\\n2012: Appointed National Vice-President of BJP\\n\\n\\n=== Governor of States ===\\n30 September 2017 – 21 August 2018: Governor of Bihar\\n21 March 2018 – 28 August 2018: Governor of Odisha Additional Charge\\n23 August 2018 – 30 October 2019: Governor of Jammu and Kashmir\\n3 November 2019 – 18 August 2020: Governor of Goa\\n18 August  2020 – 3 October 2022: Governor of Meghalaya\\n\\n\\n== Political views ==\\n\\n\\n=== Support for farmers\\' protest ===\\n\\nOn 8 November 2021, Malik was invited to Global Jat Summit and in his speech, he warned the Indian government regarding the 2020–2021 Indian farmers\\' protest and said \"you will not be able to overcome the Sikhs. The Guru\\'s four children were slaughtered, but the Guru refused to surrender. You cannot defeat the Jats as well.\"\\nHe also added, \"Indira Gandhi knew that she would be killed and she was killed [for ordering Bluestar]. They killed General Vaidya in Pune [for leading Bluestar] and Michael O\\'Dwyer in London [Lieutenant Governor Of Punjab during Jallianwala Bagh massacre]. I have even said that don\\'t test the patience of the Sikh community.\" This was used as an outro snippet on the controversial song SYL by Sidhu Moose Wala.\\n\\n\\n=== Views on Pulwama attack and Narendra Modi ===\\nOn 14 April 2023, in an interview to Karan Thapar, Malik gave his views on Pulwama attack and Narendra Modi.\\n\\nNarendra Modi had no dislike for corruption and has taken no action against those alleged to be involved in corruption because they were close to him.\\nThe former J&K governor had also made serious claims about mistakes that led to the Pulwama attack in 2019, including instructions by Modi and NSA Ajit Doval for him to stay quiet on the mistakes'), Document(metadata={'title': 'Chamrawal', 'summary': 'Chamrawal is a village in Bagpat district, Uttar Pradesh, India. Chamrawal is located at a distance of 6.556 km from Pilana town, and 16.25 km from Baghpat town.', 'source': 'https://en.wikipedia.org/wiki/Chamrawal'}, page_content='Chamrawal is a village in Bagpat district, Uttar Pradesh, India. Chamrawal is located at a distance of 6.556 km from Pilana town, and 16.25 km from Baghpat town.\\n\\n\\n== History ==\\nIt is to be said that Chamrawal village was discovered by Chaman rishi in the year 707 AD.\\nThe land for the air force firing range was acquired prior to 1908, and the resultant oustees now living in Chamrawal are mostly of the Tyagi Brahmin community.\\nChamrawal was once in Meerut district, but became a part of Baghpat district upon its creation.\\n\\n\\n== Geography ==\\nThe PIN code of the village is 250515. Other villages in the same postal zone include Pilana, Hisawada, Lalyana and Khatta Prahladpur. Other nearby villages include Mansoorpur (1.7 km), Lalyana (2.5 km), Panchi (2.6 km), Kaharka (3.1 km), Khaila (3.1 km), Dhikoli (3.2 km) and Lahchauda (3.6 km).\\n\\n\\n== Administration ==\\nThe village pradhan is Pradeep Tyagi. The police station is in Chamrawal Chandinagar.\\n\\n\\n== Demographics ==\\nAccording to the 2011 Indian census, Chamrawal village has a population of 4,523 (707 families, 2619 males, 1904 females, 601 children aged six and under), with a literacy rate of 81.74% (90.36% for males, 69.63% for females), which compares well to the average literacy rate of 67.68% for all of Uttar Pradesh.\\nThe village is inhabited mainly by the Tyagi community.\\n\\n\\n== Religious shrines ==\\nIt has a Hanuman temple named Sankat Mochan Hanuman Mandir. It was built in 2007. \\nIt has a Shiv Shakti temple situated on the Hindon River.\\n\\n\\n== References ==\\n\\n\\n== External links ==\\nSankat Mochan Hanuman Mandir')]\n"
     ]
    }
   ],
   "source": [
    "print(docs)"
   ]
  },
  {
   "cell_type": "code",
   "execution_count": 36,
   "id": "b9562efb",
   "metadata": {},
   "outputs": [
    {
     "name": "stdout",
     "output_type": "stream",
     "text": [
      "Document 1:\n",
      "\n",
      "Title: Satya Pal Malik\n",
      "\n",
      "Content: Satya Pal Malik (24 July 1946 – 5 August 2025) was an Indian politician who served as governor of five Indian states, namely Bihar, Odisha, Jammu and Kashmir, Goa, and Meghalaya.\n",
      "His first prominent stint as a politician was as a member of Uttar Pradesh Legislative Assembly during 1974–77. He represented Uttar Pradesh in Rajya Sabha from 1980 to 1986 and 1986–89. He was member of the 9th Lok Sabha from Aligarh, from 1989 to 1991, as member of Janata Dal. He was the Governor of Bihar from October 2017 to August 2018. On 21 March 2018, he was also given additional charge to serve as Governor of Odisha up to 28 May 2018. In August 2018, he was appointed Governor to the erstwhile state of Jammu and Kashmir, becoming its 10th and last Governor, and served till October 2019. During his tenure, in August 2019, the state's special status was revoked and it was reorganised into two union territories. Later, he moved to Goa, becoming the 18th governor, and also served as the 21st Governor of Meghalaya, until October 2022.\n",
      "\n",
      "\n",
      "== Background ==\n",
      "Satya Pal Malik was born to Budh Singh on 24 July 1946 in Hisawada, a village in the Meerut district of the United Provinces of British India (now in the Bagpat district of Uttar Pradesh, India) into a Hindu Jat family.\n",
      "Malik pursued his Bachelor of Science and Bachelor of Laws degrees from Meerut University. In 1968–69, Malik was elected as the students union president, commencing his political career. He was married to Idbal Malik.\n",
      "Malik died after a prolonged illness on 5 August 2025, at the age of 79.\n",
      "\n",
      "\n",
      "== Politics ==\n",
      "\n",
      "\n",
      "=== Early state politics ===\n",
      "Malik was first elected to any public office as a member of legislative assembly from Baghpat after he successfully contested the election as member of Charan Singh's Bharatiya Kranti Dal. He won the election by receiving 42.4% of the votes cast and defeating his nearest rival Acharya Deepankar of the Communist party of India who got 31.6% of the total votes cast. Later, after the formation of Bharatiya Lok Dal, he joined the party and became the general secretary of Lok Dal.\n",
      "\n",
      "\n",
      "=== National politics ===\n",
      "1980–89: Rajya Sabha Member from Uttar Pradesh\n",
      "1989–91: Member of Lok Sabha from Aligarh, on Janata Dal ticket\n",
      "1996: Lost Lok Sabha Election from Aligarh on SP ticket, came fourth with only 40,789 votes.\n",
      "2012: Appointed National Vice-President of BJP\n",
      "\n",
      "\n",
      "=== Governor of States ===\n",
      "30 September 2017 – 21 August 2018: Governor of Bihar\n",
      "21 March 2018 – 28 August 2018: Governor of Odisha Additional Charge\n",
      "23 August 2018 – 30 October 2019: Governor of Jammu and Kashmir\n",
      "3 November 2019 – 18 August 2020: Governor of Goa\n",
      "18 August  2020 – 3 October 2022: Governor of Meghalaya\n",
      "\n",
      "\n",
      "== Political views ==\n",
      "\n",
      "\n",
      "=== Support for farmers' protest ===\n",
      "\n",
      "On 8 November 2021, Malik was invited to Global Jat Summit and in his speech, he warned the Indian government regarding the 2020–2021 Indian farmers' protest and said \"you will not be able to overcome the Sikhs. The Guru's four children were slaughtered, but the Guru refused to surrender. You cannot defeat the Jats as well.\"\n",
      "He also added, \"Indira Gandhi knew that she would be killed and she was killed [for ordering Bluestar]. They killed General Vaidya in Pune [for leading Bluestar] and Michael O'Dwyer in London [Lieutenant Governor Of Punjab during Jallianwala Bagh massacre]. I have even said that don't test the patience of the Sikh community.\" This was used as an outro snippet on the controversial song SYL by Sidhu Moose Wala.\n",
      "\n",
      "\n",
      "=== Views on Pulwama attack and Narendra Modi ===\n",
      "On 14 April 2023, in an interview to Karan Thapar, Malik gave his views on Pulwama attack and Narendra Modi.\n",
      "\n",
      "Narendra Modi had no dislike for corruption and has taken no action against those alleged to be involved in corruption because they were close to him.\n",
      "The former J&K governor had also made serious claims about mistakes that led to the Pulwama attack in 2019, including instructions by Modi and NSA Ajit Doval for him to stay quiet on the mistakes\n",
      "\n",
      "Document 2:\n",
      "\n",
      "Title: Chamrawal\n",
      "\n",
      "Content: Chamrawal is a village in Bagpat district, Uttar Pradesh, India. Chamrawal is located at a distance of 6.556 km from Pilana town, and 16.25 km from Baghpat town.\n",
      "\n",
      "\n",
      "== History ==\n",
      "It is to be said that Chamrawal village was discovered by Chaman rishi in the year 707 AD.\n",
      "The land for the air force firing range was acquired prior to 1908, and the resultant oustees now living in Chamrawal are mostly of the Tyagi Brahmin community.\n",
      "Chamrawal was once in Meerut district, but became a part of Baghpat district upon its creation.\n",
      "\n",
      "\n",
      "== Geography ==\n",
      "The PIN code of the village is 250515. Other villages in the same postal zone include Pilana, Hisawada, Lalyana and Khatta Prahladpur. Other nearby villages include Mansoorpur (1.7 km), Lalyana (2.5 km), Panchi (2.6 km), Kaharka (3.1 km), Khaila (3.1 km), Dhikoli (3.2 km) and Lahchauda (3.6 km).\n",
      "\n",
      "\n",
      "== Administration ==\n",
      "The village pradhan is Pradeep Tyagi. The police station is in Chamrawal Chandinagar.\n",
      "\n",
      "\n",
      "== Demographics ==\n",
      "According to the 2011 Indian census, Chamrawal village has a population of 4,523 (707 families, 2619 males, 1904 females, 601 children aged six and under), with a literacy rate of 81.74% (90.36% for males, 69.63% for females), which compares well to the average literacy rate of 67.68% for all of Uttar Pradesh.\n",
      "The village is inhabited mainly by the Tyagi community.\n",
      "\n",
      "\n",
      "== Religious shrines ==\n",
      "It has a Hanuman temple named Sankat Mochan Hanuman Mandir. It was built in 2007. \n",
      "It has a Shiv Shakti temple situated on the Hindon River.\n",
      "\n",
      "\n",
      "== References ==\n",
      "\n",
      "\n",
      "== External links ==\n",
      "Sankat Mochan Hanuman Mandir\n",
      "\n"
     ]
    }
   ],
   "source": [
    "for i, doc in enumerate(docs):\n",
    "    print(f\"Document {i+1}:\\n\")\n",
    "    print(f\"Title: {doc.metadata['title']}\\n\")\n",
    "    print(f\"Content: {doc.page_content}\\n\")\n",
    "    # print(\"=\"*80 + \"\\n\")"
   ]
  },
  {
   "cell_type": "markdown",
   "id": "757b3abd",
   "metadata": {},
   "source": [
    "# Vector Store Retriever"
   ]
  },
  {
   "cell_type": "code",
   "execution_count": 5,
   "id": "05442fad",
   "metadata": {},
   "outputs": [],
   "source": [
    "from langchain_community.vectorstores import Chroma\n",
    "from langchain_core.documents import Document"
   ]
  },
  {
   "cell_type": "code",
   "execution_count": 8,
   "id": "46862dde",
   "metadata": {},
   "outputs": [],
   "source": [
    "# Step 1: Your source documents\n",
    "documents = [\n",
    "    Document(page_content=\"LangChain helps developers build LLM applications easily.\"),\n",
    "    Document(page_content=\"Chroma is a vector database optimized for LLM-based search.\"),\n",
    "    Document(page_content=\"Embeddings convert text into high-dimensional vectors.\"),\n",
    "    Document(page_content=\"OpenAI provides powerful embedding models.\"),\n",
    "]"
   ]
  },
  {
   "cell_type": "code",
   "execution_count": 9,
   "id": "b01247c3",
   "metadata": {},
   "outputs": [
    {
     "data": {
      "text/plain": [
       "True"
      ]
     },
     "execution_count": 9,
     "metadata": {},
     "output_type": "execute_result"
    }
   ],
   "source": [
    "from dotenv import load_dotenv\n",
    "load_dotenv()"
   ]
  },
  {
   "cell_type": "code",
   "execution_count": 62,
   "id": "7d266599",
   "metadata": {},
   "outputs": [],
   "source": [
    "import os\n",
    "os.environ['GRPC_VERBOSITY'] = 'ERROR'\n",
    "os.environ['GLOG_minloglevel'] = '2'\n"
   ]
  },
  {
   "cell_type": "code",
   "execution_count": 49,
   "id": "74bce67d",
   "metadata": {},
   "outputs": [
    {
     "name": "stderr",
     "output_type": "stream",
     "text": [
      "E0000 00:00:1759426547.408149 1607819 alts_credentials.cc:93] ALTS creds ignored. Not running on GCP and untrusted ALTS is not enabled.\n",
      "E0000 00:00:1759426547.408957 1607819 alts_credentials.cc:93] ALTS creds ignored. Not running on GCP and untrusted ALTS is not enabled.\n"
     ]
    }
   ],
   "source": [
    "model = GoogleGenerativeAIEmbeddings(\n",
    "    model=\"gemini-2.5-flash\",\n",
    ")"
   ]
  },
  {
   "cell_type": "code",
   "execution_count": 63,
   "id": "437862be",
   "metadata": {},
   "outputs": [
    {
     "name": "stderr",
     "output_type": "stream",
     "text": [
      "E0000 00:00:1759427041.258945 1607819 alts_credentials.cc:93] ALTS creds ignored. Not running on GCP and untrusted ALTS is not enabled.\n",
      "E0000 00:00:1759427041.260237 1607819 alts_credentials.cc:93] ALTS creds ignored. Not running on GCP and untrusted ALTS is not enabled.\n"
     ]
    }
   ],
   "source": [
    "embedding_model = GoogleGenerativeAIEmbeddings(model=\"models/embedding-001\")"
   ]
  },
  {
   "cell_type": "code",
   "execution_count": 64,
   "id": "60d6d506",
   "metadata": {},
   "outputs": [],
   "source": [
    "# Step 3: Create Chroma vector store in memory\n",
    "vectorstore = Chroma.from_documents(\n",
    "    documents=documents,\n",
    "    embedding=embedding_model,\n",
    "    collection_name=\"my_collection\"\n",
    ")"
   ]
  },
  {
   "cell_type": "code",
   "execution_count": 65,
   "id": "e5566e68",
   "metadata": {},
   "outputs": [],
   "source": [
    "retriever = vectorstore.as_retriever(search_kwargs={\"k\": 2})"
   ]
  },
  {
   "cell_type": "code",
   "execution_count": 66,
   "id": "01ac9fdf",
   "metadata": {},
   "outputs": [],
   "source": [
    "query = \"what is chroma used for?\""
   ]
  },
  {
   "cell_type": "code",
   "execution_count": 67,
   "id": "39c3c9bd",
   "metadata": {},
   "outputs": [],
   "source": [
    "result = retriever.invoke(query)"
   ]
  },
  {
   "cell_type": "code",
   "execution_count": 68,
   "id": "e3c3a8c9",
   "metadata": {},
   "outputs": [
    {
     "name": "stdout",
     "output_type": "stream",
     "text": [
      "[Document(metadata={}, page_content='Chroma is a vector database optimized for LLM-based search.'), Document(metadata={}, page_content='Chroma is a vector database optimized for LLM-based search.')]\n"
     ]
    }
   ],
   "source": [
    "print(result)"
   ]
  },
  {
   "cell_type": "code",
   "execution_count": 69,
   "id": "171a20ff",
   "metadata": {},
   "outputs": [
    {
     "name": "stdout",
     "output_type": "stream",
     "text": [
      "\n",
      "----Result 1---\n",
      "Chroma is a vector database optimized for LLM-based search.\n",
      "\n",
      "----Result 2---\n",
      "Chroma is a vector database optimized for LLM-based search.\n"
     ]
    }
   ],
   "source": [
    "for i, doc in enumerate(result):\n",
    "    print(f\"\\n----Result {i+1}---\")\n",
    "    print(doc.page_content)\n",
    "    "
   ]
  },
  {
   "cell_type": "code",
   "execution_count": 70,
   "id": "7a4be2b0",
   "metadata": {},
   "outputs": [],
   "source": [
    "results = vectorstore.similarity_search(query, k=2)"
   ]
  },
  {
   "cell_type": "code",
   "execution_count": 71,
   "id": "d3812109",
   "metadata": {},
   "outputs": [
    {
     "name": "stdout",
     "output_type": "stream",
     "text": [
      "\n",
      "--- Result 1 ---\n",
      "Chroma is a vector database optimized for LLM-based search.\n",
      "\n",
      "--- Result 2 ---\n",
      "Chroma is a vector database optimized for LLM-based search.\n"
     ]
    }
   ],
   "source": [
    "for i, doc in enumerate(results):\n",
    "    print(f\"\\n--- Result {i+1} ---\")\n",
    "    print(doc.page_content)"
   ]
  },
  {
   "cell_type": "markdown",
   "id": "4dccfa11",
   "metadata": {},
   "source": [
    "# MMR - Maximum Marginal Relevance retriever"
   ]
  },
  {
   "cell_type": "code",
   "execution_count": 7,
   "id": "14fc29c4",
   "metadata": {},
   "outputs": [],
   "source": [
    "# Step 1: Your source documents\n",
    "docs = [\n",
    "    Document(page_content=\"LangChain helps developers build LLM applications easily.\"),\n",
    "    Document(page_content=\"Chroma is a vector database optimized for LLM-based search.\"),\n",
    "    Document(page_content=\"Embeddings convert text into high-dimensional vectors.\"),\n",
    "    Document(page_content=\"OpenAI provides powerful embedding models.\"),\n",
    "]"
   ]
  },
  {
   "cell_type": "code",
   "execution_count": 9,
   "id": "39e9f0d7",
   "metadata": {},
   "outputs": [],
   "source": [
    "from langchain_community.vectorstores import FAISS\n",
    "\n",
    "#Initialize gemini embeddings"
   ]
  },
  {
   "cell_type": "code",
   "execution_count": 10,
   "id": "0720f0df",
   "metadata": {},
   "outputs": [
    {
     "name": "stderr",
     "output_type": "stream",
     "text": [
      "WARNING: All log messages before absl::InitializeLog() is called are written to STDERR\n",
      "E0000 00:00:1759574659.361145 1630544 alts_credentials.cc:93] ALTS creds ignored. Not running on GCP and untrusted ALTS is not enabled.\n",
      "E0000 00:00:1759574659.389902 1630544 alts_credentials.cc:93] ALTS creds ignored. Not running on GCP and untrusted ALTS is not enabled.\n"
     ]
    }
   ],
   "source": [
    "embedding_model = GoogleGenerativeAIEmbeddings(model=\"models/embedding-001\")"
   ]
  },
  {
   "cell_type": "code",
   "execution_count": 11,
   "id": "05f65eb9",
   "metadata": {},
   "outputs": [],
   "source": [
    "# create the FAISS vector store for documents\n",
    "vectorstore = FAISS.from_documents(\n",
    "    documents = docs,\n",
    "    embedding = embedding_model\n",
    ")"
   ]
  },
  {
   "cell_type": "code",
   "execution_count": null,
   "id": "6f6d9816",
   "metadata": {},
   "outputs": [],
   "source": [
    "# enable MMR in the retriever\n",
    "retriever = vectorstore.as_retriever(\n",
    "    search_type =\"mmr\",  # <--- This enables MMR retriever\n",
    "    search_kwargs = {\"k\":3, \"lambda_mult\":0} # k= top results, lambda_mult= relevant diversity balance\n",
    ") # lambda-mult = (0 tp 1) # 0--very diverse , 1 works exectly like similarity search"
   ]
  },
  {
   "cell_type": "code",
   "execution_count": 16,
   "id": "18fde1c7",
   "metadata": {},
   "outputs": [],
   "source": [
    "query =\"What is Langchain?\"\n",
    "result = retriever.invoke(query)"
   ]
  },
  {
   "cell_type": "code",
   "execution_count": 17,
   "id": "454b507e",
   "metadata": {},
   "outputs": [
    {
     "name": "stdout",
     "output_type": "stream",
     "text": [
      "\n",
      " ---Result 1---\n",
      "LangChain helps developers build LLM applications easily.\n",
      "\n",
      " ---Result 2---\n",
      "Embeddings convert text into high-dimensional vectors.\n",
      "\n",
      " ---Result 3---\n",
      "Chroma is a vector database optimized for LLM-based search.\n"
     ]
    }
   ],
   "source": [
    "for i, doc in enumerate(result):\n",
    "    print(f\"\\n ---Result {i+1}---\")\n",
    "    print(doc.page_content)"
   ]
  },
  {
   "cell_type": "markdown",
   "id": "57bdf535",
   "metadata": {},
   "source": [
    "# Multi Query Retriever"
   ]
  },
  {
   "cell_type": "code",
   "execution_count": 18,
   "id": "0d723218",
   "metadata": {},
   "outputs": [],
   "source": [
    "from langchain_community.vectorstores import FAISS\n",
    "from langchain_google_genai import ChatGoogleGenerativeAI\n",
    "from langchain.retrievers.multi_query import MultiQueryRetriever"
   ]
  },
  {
   "cell_type": "code",
   "execution_count": 19,
   "id": "5e2b63c7",
   "metadata": {},
   "outputs": [],
   "source": [
    "# Relevant health & wellness documents\n",
    "all_docs = [\n",
    "    Document(page_content=\"Regular walking boosts heart health and can reduce symptoms of depression.\", metadata={\"source\": \"H1\"}),\n",
    "    Document(page_content=\"Consuming leafy greens and fruits helps detox the body and improve longevity.\", metadata={\"source\": \"H2\"}),\n",
    "    Document(page_content=\"Deep sleep is crucial for cellular repair and emotional regulation.\", metadata={\"source\": \"H3\"}),\n",
    "    Document(page_content=\"Mindfulness and controlled breathing lower cortisol and improve mental clarity.\", metadata={\"source\": \"H4\"}),\n",
    "    Document(page_content=\"Drinking sufficient water throughout the day helps maintain metabolism and energy.\", metadata={\"source\": \"H5\"}),\n",
    "    Document(page_content=\"The solar energy system in modern homes helps balance electricity demand.\", metadata={\"source\": \"I1\"}),\n",
    "    Document(page_content=\"Python balances readability with power, making it a popular system design language.\", metadata={\"source\": \"I2\"}),\n",
    "    Document(page_content=\"Photosynthesis enables plants to produce energy by converting sunlight.\", metadata={\"source\": \"I3\"}),\n",
    "    Document(page_content=\"The 2022 FIFA World Cup was held in Qatar and drew global energy and excitement.\", metadata={\"source\": \"I4\"}),\n",
    "    Document(page_content=\"Black holes bend spacetime and store immense gravitational energy.\", metadata={\"source\": \"I5\"}),\n",
    "]"
   ]
  },
  {
   "cell_type": "code",
   "execution_count": 20,
   "id": "217f6d46",
   "metadata": {},
   "outputs": [
    {
     "name": "stderr",
     "output_type": "stream",
     "text": [
      "E0000 00:00:1759576005.519199 1630544 alts_credentials.cc:93] ALTS creds ignored. Not running on GCP and untrusted ALTS is not enabled.\n",
      "E0000 00:00:1759576005.520049 1630544 alts_credentials.cc:93] ALTS creds ignored. Not running on GCP and untrusted ALTS is not enabled.\n"
     ]
    }
   ],
   "source": [
    "embedding_model = GoogleGenerativeAIEmbeddings(model=\"models/embedding-001\")"
   ]
  },
  {
   "cell_type": "code",
   "execution_count": 21,
   "id": "5b589974",
   "metadata": {},
   "outputs": [],
   "source": [
    "vectorstore = FAISS.from_documents(\n",
    "    documents= all_docs,\n",
    "    embedding= embedding_model\n",
    "    )"
   ]
  },
  {
   "cell_type": "code",
   "execution_count": 22,
   "id": "80576e91",
   "metadata": {},
   "outputs": [],
   "source": [
    "similarity_retriever = vectorstore.as_retriever(\n",
    "    search_kwargs = {\"k\":5},\n",
    "    search_type = \"similarity\"\n",
    ")"
   ]
  },
  {
   "cell_type": "code",
   "execution_count": 24,
   "id": "eeb41fe5",
   "metadata": {},
   "outputs": [
    {
     "name": "stderr",
     "output_type": "stream",
     "text": [
      "E0000 00:00:1759576345.579382 1630544 alts_credentials.cc:93] ALTS creds ignored. Not running on GCP and untrusted ALTS is not enabled.\n"
     ]
    }
   ],
   "source": [
    "multi_query_retriever = MultiQueryRetriever.from_llm(\n",
    "    retriever= vectorstore.as_retriever(search_kwargs ={\"k\":5}),\n",
    "    llm = ChatGoogleGenerativeAI(model = 'gemini-2.5-flash', temperature= 0.7)\n",
    ")"
   ]
  },
  {
   "cell_type": "code",
   "execution_count": 25,
   "id": "a5197a45",
   "metadata": {},
   "outputs": [
    {
     "name": "stdout",
     "output_type": "stream",
     "text": [
      "\n",
      " ---Result 1---\n",
      "Drinking sufficient water throughout the day helps maintain metabolism and energy.\n",
      "\n",
      " ---Result 2---\n",
      "Consuming leafy greens and fruits helps detox the body and improve longevity.\n",
      "\n",
      " ---Result 3---\n",
      "Mindfulness and controlled breathing lower cortisol and improve mental clarity.\n",
      "\n",
      " ---Result 4---\n",
      "Deep sleep is crucial for cellular repair and emotional regulation.\n",
      "\n",
      " ---Result 5---\n",
      "Photosynthesis enables plants to produce energy by converting sunlight.\n"
     ]
    }
   ],
   "source": [
    "query = \"How to improve energy levels and maintain balance?\"\n",
    "result1 = similarity_retriever.invoke(query)\n",
    "for i, doc in enumerate(result1):\n",
    "    print(f\"\\n ---Result {i+1}---\")\n",
    "    print(doc.page_content)"
   ]
  },
  {
   "cell_type": "code",
   "execution_count": 27,
   "id": "efef93fe",
   "metadata": {},
   "outputs": [
    {
     "name": "stdout",
     "output_type": "stream",
     "text": [
      "\n",
      " ---Result 0---\n",
      "Drinking sufficient water throughout the day helps maintain metabolism and energy.\n",
      "\n",
      " ---Result 1---\n",
      "Consuming leafy greens and fruits helps detox the body and improve longevity.\n",
      "\n",
      " ---Result 2---\n",
      "Mindfulness and controlled breathing lower cortisol and improve mental clarity.\n",
      "\n",
      " ---Result 3---\n",
      "Deep sleep is crucial for cellular repair and emotional regulation.\n",
      "\n",
      " ---Result 4---\n",
      "Regular walking boosts heart health and can reduce symptoms of depression.\n",
      "\n",
      " ---Result 5---\n",
      "Photosynthesis enables plants to produce energy by converting sunlight.\n"
     ]
    }
   ],
   "source": [
    "query = \"How to improve energy levels and maintain balance?\"\n",
    "result1 = multi_query_retriever.invoke(query)\n",
    "for i, doc in enumerate(result1):\n",
    "    print(f\"\\n ---Result {i}---\")\n",
    "    print(doc.page_content)"
   ]
  },
  {
   "cell_type": "code",
   "execution_count": 29,
   "id": "d7f051ce",
   "metadata": {},
   "outputs": [],
   "source": [
    "from langchain.retrievers.contextual_compression import ContextualCompressionRetriever\n",
    "from langchain.retrievers.document_compressors import LLMChainExtractor"
   ]
  },
  {
   "cell_type": "code",
   "execution_count": 30,
   "id": "8bdc5f2f",
   "metadata": {},
   "outputs": [],
   "source": [
    "# Recreate the document objects from the previous data\n",
    "docs = [\n",
    "    Document(page_content=(\n",
    "        \"\"\"The Grand Canyon is one of the most visited natural wonders in the world.\n",
    "        Photosynthesis is the process by which green plants convert sunlight into energy.\n",
    "        Millions of tourists travel to see it every year. The rocks date back millions of years.\"\"\"\n",
    "    ), metadata={\"source\": \"Doc1\"}),\n",
    "\n",
    "    Document(page_content=(\n",
    "        \"\"\"In medieval Europe, castles were built primarily for defense.\n",
    "        The chlorophyll in plant cells captures sunlight during photosynthesis.\n",
    "        Knights wore armor made of metal. Siege weapons were often used to breach castle walls.\"\"\"\n",
    "    ), metadata={\"source\": \"Doc2\"}),\n",
    "\n",
    "    Document(page_content=(\n",
    "        \"\"\"Basketball was invented by Dr. James Naismith in the late 19th century.\n",
    "        It was originally played with a soccer ball and peach baskets. NBA is now a global league.\"\"\"\n",
    "    ), metadata={\"source\": \"Doc3\"}),\n",
    "\n",
    "    Document(page_content=(\n",
    "        \"\"\"The history of cinema began in the late 1800s. Silent films were the earliest form.\n",
    "        Thomas Edison was among the pioneers. Photosynthesis does not occur in animal cells.\n",
    "        Modern filmmaking involves complex CGI and sound design.\"\"\"\n",
    "    ), metadata={\"source\": \"Doc4\"})\n",
    "]"
   ]
  },
  {
   "cell_type": "code",
   "execution_count": 31,
   "id": "695baef5",
   "metadata": {},
   "outputs": [],
   "source": [
    "vectorstore = FAISS.from_documents(docs, embedding_model)"
   ]
  },
  {
   "cell_type": "code",
   "execution_count": 32,
   "id": "eda0c7e4",
   "metadata": {},
   "outputs": [],
   "source": [
    "base_retriever = vectorstore.as_retriever(search_kwargs = {\"k\":5})"
   ]
  },
  {
   "cell_type": "code",
   "execution_count": 33,
   "id": "8693773c",
   "metadata": {},
   "outputs": [
    {
     "name": "stderr",
     "output_type": "stream",
     "text": [
      "E0000 00:00:1759577566.787831 1630544 alts_credentials.cc:93] ALTS creds ignored. Not running on GCP and untrusted ALTS is not enabled.\n"
     ]
    }
   ],
   "source": [
    "llm = ChatGoogleGenerativeAI(model = 'gemini-2.5-flash')\n",
    "compressor = LLMChainExtractor.from_llm(llm)"
   ]
  },
  {
   "cell_type": "code",
   "execution_count": 36,
   "id": "a9408a6c",
   "metadata": {},
   "outputs": [],
   "source": [
    "compression_retriever = ContextualCompressionRetriever(\n",
    "    base_retriever= base_retriever,\n",
    "    base_compressor= compressor\n",
    ")"
   ]
  },
  {
   "cell_type": "code",
   "execution_count": 38,
   "id": "8cdceec5",
   "metadata": {},
   "outputs": [],
   "source": [
    "query = \"What is photosynthesis?\"\n",
    "compressed_results = compression_retriever.invoke(query)"
   ]
  },
  {
   "cell_type": "code",
   "execution_count": 1,
   "id": "347bc5e7",
   "metadata": {},
   "outputs": [
    {
     "ename": "NameError",
     "evalue": "name 'compressed_results' is not defined",
     "output_type": "error",
     "traceback": [
      "\u001b[0;31m---------------------------------------------------------------------------\u001b[0m",
      "\u001b[0;31mNameError\u001b[0m                                 Traceback (most recent call last)",
      "Cell \u001b[0;32mIn[1], line 1\u001b[0m\n\u001b[0;32m----> 1\u001b[0m \u001b[38;5;28;01mfor\u001b[39;00m i, doc \u001b[38;5;129;01min\u001b[39;00m \u001b[38;5;28menumerate\u001b[39m(\u001b[43mcompressed_results\u001b[49m):\n\u001b[1;32m      2\u001b[0m     \u001b[38;5;28mprint\u001b[39m(\u001b[38;5;124mf\u001b[39m\u001b[38;5;124m\"\u001b[39m\u001b[38;5;130;01m\\n\u001b[39;00m\u001b[38;5;124m ---Result\u001b[39m\u001b[38;5;132;01m{\u001b[39;00mi\u001b[38;5;241m+\u001b[39m\u001b[38;5;241m1\u001b[39m\u001b[38;5;132;01m}\u001b[39;00m\u001b[38;5;124m---\u001b[39m\u001b[38;5;124m\"\u001b[39m)\n\u001b[1;32m      3\u001b[0m     \u001b[38;5;28mprint\u001b[39m(doc\u001b[38;5;241m.\u001b[39mpage_content)\n",
      "\u001b[0;31mNameError\u001b[0m: name 'compressed_results' is not defined"
     ]
    }
   ],
   "source": [
    "for i, doc in enumerate(compressed_results):\n",
    "    print(f\"\\n ---Result{i+1}---\")\n",
    "    print(doc.page_content)"
   ]
  },
  {
   "cell_type": "code",
   "execution_count": null,
   "id": "4322d8f5",
   "metadata": {},
   "outputs": [],
   "source": [
    "print(\"hello\")"
   ]
  }
 ],
 "metadata": {
  "kernelspec": {
   "display_name": "Python 3",
   "language": "python",
   "name": "python3"
  },
  "language_info": {
   "codemirror_mode": {
    "name": "ipython",
    "version": 3
   },
   "file_extension": ".py",
   "mimetype": "text/x-python",
   "name": "python",
   "nbconvert_exporter": "python",
   "pygments_lexer": "ipython3",
   "version": "3.10.18"
  }
 },
 "nbformat": 4,
 "nbformat_minor": 5
}
